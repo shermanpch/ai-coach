{
 "cells": [
  {
   "cell_type": "code",
   "execution_count": 1,
   "metadata": {},
   "outputs": [],
   "source": [
    "%load_ext autoreload\n",
    "%autoreload 2"
   ]
  },
  {
   "cell_type": "code",
   "execution_count": null,
   "metadata": {},
   "outputs": [
    {
     "name": "stdout",
     "output_type": "stream",
     "text": [
      "Changed to git root: /Users/sherman/GitHub/CSE-6748\n"
     ]
    }
   ],
   "source": [
    "import os\n",
    "import subprocess\n",
    "\n",
    "\n",
    "def get_git_root():\n",
    "    \"\"\"Get the root directory of the git repository\"\"\"\n",
    "    try:\n",
    "        git_root = (\n",
    "            subprocess.check_output(\n",
    "                [\"git\", \"rev-parse\", \"--show-toplevel\"], stderr=subprocess.DEVNULL\n",
    "            )\n",
    "            .strip()\n",
    "            .decode(\"utf-8\")\n",
    "        )\n",
    "        return git_root\n",
    "    except (subprocess.CalledProcessError, FileNotFoundError):\n",
    "        return None\n",
    "\n",
    "\n",
    "# Change to git root\n",
    "git_root = get_git_root()\n",
    "if git_root:\n",
    "    os.chdir(git_root)\n",
    "    print(f\"Changed to git root: {os.getcwd()}\")\n",
    "else:\n",
    "    print(\"Not in a git repository or git not found\")"
   ]
  },
  {
   "cell_type": "code",
   "execution_count": 3,
   "metadata": {},
   "outputs": [],
   "source": [
    "import pickle\n",
    "\n",
    "import numpy as np\n",
    "import pandas as pd\n",
    "from catboost import CatBoostRegressor\n",
    "from matplotlib import pyplot as plt\n",
    "from scipy.stats import randint, uniform\n",
    "from sklearn.metrics import mean_squared_error\n",
    "from sklearn.model_selection import RandomizedSearchCV, train_test_split"
   ]
  },
  {
   "cell_type": "code",
   "execution_count": 4,
   "metadata": {},
   "outputs": [],
   "source": [
    "X_index = pd.read_parquet(\"data/cleaned/X_index.parquet\")\n",
    "X = pd.read_parquet(\"data/cleaned/X.parquet\")\n",
    "Y = pd.read_parquet(\"data/cleaned/Y.parquet\")"
   ]
  },
  {
   "cell_type": "code",
   "execution_count": 14,
   "metadata": {},
   "outputs": [],
   "source": [
    "# Train/test split\n",
    "X_train, X_valid, Y_train, Y_valid = train_test_split(\n",
    "    X,\n",
    "    Y,\n",
    "    test_size=0.2,\n",
    "    random_state=69,\n",
    ")\n",
    "\n",
    "X_train.to_parquet(\"data/cleaned/X_train.parquet\")\n",
    "X_valid.to_parquet(\"data/cleaned/X_valid.parquet\")\n",
    "Y_train.to_parquet(\"data/cleaned/Y_train.parquet\")\n",
    "Y_valid.to_parquet(\"data/cleaned/Y_valid.parquet\")"
   ]
  },
  {
   "cell_type": "code",
   "execution_count": 6,
   "metadata": {},
   "outputs": [],
   "source": [
    "# # Define the parameter grid to search\n",
    "# param_dist = {\n",
    "#     \"iterations\": randint(1000, 5000),  # Number of trees\n",
    "#     \"learning_rate\": uniform(0.01, 0.2),  # Learning rate\n",
    "#     \"depth\": randint(4, 10),  # Depth of trees\n",
    "#     \"l2_leaf_reg\": uniform(1, 10),  # L2 regularization\n",
    "#     \"random_strength\": uniform(0.1, 1.0),  # Random strength for split\n",
    "#     \"bagging_temperature\": uniform(0, 1),  # Bagging temperature for features\n",
    "#     \"border_count\": randint(32, 255),  # Border count for splits\n",
    "# }\n",
    "\n",
    "# # Set up the CatBoost model for cross-validation\n",
    "# cv_model = CatBoostRegressor(\n",
    "#     loss_function=\"MultiRMSE\",\n",
    "#     eval_metric=\"MultiRMSE\",\n",
    "#     random_seed=42,\n",
    "#     verbose=0,\n",
    "#     task_type=\"CPU\",\n",
    "# )\n",
    "\n",
    "# # Create the RandomizedSearchCV object\n",
    "# search = RandomizedSearchCV(\n",
    "#     estimator=cv_model,\n",
    "#     param_distributions=param_dist,\n",
    "#     n_iter=100,  # Number of parameter settings to try\n",
    "#     cv=5,  # 5-fold cross-validation\n",
    "#     scoring=\"neg_root_mean_squared_error\",\n",
    "#     random_state=42,\n",
    "#     n_jobs=-1,  # Use all available processors\n",
    "#     verbose=2,\n",
    "# )\n",
    "\n",
    "# print(\"Starting hyperparameter search with cross-validation. This may take a while...\")\n",
    "\n",
    "\n",
    "# # Fit the RandomizedSearchCV\n",
    "categorical_features = X.select_dtypes(include=[\"object\"]).columns.tolist()\n",
    "# search.fit(X_train, Y_train, cat_features=categorical_features)\n",
    "\n",
    "# # Print the best parameters\n",
    "# print(\"\\nBest parameters found:\")\n",
    "# print(search.best_params_)\n",
    "# print(f\"\\nBest cross-validation RMSE: {-search.best_score_:.4f}\")"
   ]
  },
  {
   "cell_type": "code",
   "execution_count": 7,
   "metadata": {},
   "outputs": [
    {
     "name": "stdout",
     "output_type": "stream",
     "text": [
      "0:\tlearn: 168.4307184\ttest: 167.4504397\tbest: 167.4504397 (0)\ttotal: 77.7ms\tremaining: 6m 28s\n",
      "500:\tlearn: 83.3274310\ttest: 86.7220671\tbest: 86.7220671 (500)\ttotal: 11s\tremaining: 1m 38s\n",
      "1000:\tlearn: 79.1982762\ttest: 85.7277179\tbest: 85.7277179 (1000)\ttotal: 22s\tremaining: 1m 28s\n",
      "1500:\tlearn: 76.2926122\ttest: 85.3377998\tbest: 85.3377998 (1500)\ttotal: 33.8s\tremaining: 1m 18s\n",
      "2000:\tlearn: 73.9273683\ttest: 85.1437895\tbest: 85.1391006 (1991)\ttotal: 46.9s\tremaining: 1m 10s\n",
      "2500:\tlearn: 71.7439808\ttest: 85.0842370\tbest: 85.0841015 (2498)\ttotal: 57.1s\tremaining: 57.1s\n",
      "3000:\tlearn: 69.8016408\ttest: 85.1151899\tbest: 85.0723567 (2613)\ttotal: 1m 5s\tremaining: 43.5s\n",
      "3500:\tlearn: 67.9958151\ttest: 85.1857170\tbest: 85.0723567 (2613)\ttotal: 1m 13s\tremaining: 31.5s\n",
      "4000:\tlearn: 66.3903789\ttest: 85.2394151\tbest: 85.0723567 (2613)\ttotal: 1m 21s\tremaining: 20.4s\n",
      "4500:\tlearn: 64.8514624\ttest: 85.3216610\tbest: 85.0723567 (2613)\ttotal: 1m 29s\tremaining: 9.95s\n",
      "4999:\tlearn: 63.4162273\ttest: 85.3930662\tbest: 85.0723567 (2613)\ttotal: 1m 39s\tremaining: 0us\n",
      "\n",
      "bestTest = 85.0723567\n",
      "bestIteration = 2613\n",
      "\n",
      "Shrink model to first 2614 iterations.\n"
     ]
    },
    {
     "data": {
      "text/plain": [
       "<catboost.core.CatBoostRegressor at 0x10985e530>"
      ]
     },
     "execution_count": 7,
     "metadata": {},
     "output_type": "execute_result"
    }
   ],
   "source": [
    "# Train a new model with the best parameters\n",
    "best_model = CatBoostRegressor(\n",
    "    # **search.best_params_,\n",
    "    iterations=5000,\n",
    "    loss_function=\"MultiRMSE\",\n",
    "    eval_metric=\"MultiRMSE\",\n",
    "    random_seed=42,\n",
    "    verbose=500,\n",
    ")\n",
    "\n",
    "# Fit the model with best parameters\n",
    "best_model.fit(\n",
    "    X_train,\n",
    "    Y_train,\n",
    "    eval_set=[(X_valid, Y_valid)],\n",
    "    cat_features=categorical_features,\n",
    ")"
   ]
  },
  {
   "cell_type": "code",
   "execution_count": 8,
   "metadata": {},
   "outputs": [
    {
     "name": "stdout",
     "output_type": "stream",
     "text": [
      "CatBoost model saved as pickle to models/catboost_model.pkl\n"
     ]
    }
   ],
   "source": [
    "# Save the CatBoost model to a pickle file\n",
    "with open(\"models/catboost_model.pkl\", \"wb\") as f:\n",
    "    pickle.dump(best_model, f)\n",
    "\n",
    "print(\"CatBoost model saved as pickle to models/catboost_model.pkl\")"
   ]
  },
  {
   "cell_type": "code",
   "execution_count": 9,
   "metadata": {},
   "outputs": [],
   "source": [
    "# Load the model from pickle\n",
    "with open(\"models/catboost_model.pkl\", \"rb\") as f:\n",
    "    loaded_model = pickle.load(f)"
   ]
  },
  {
   "cell_type": "code",
   "execution_count": null,
   "metadata": {},
   "outputs": [
    {
     "name": "stdout",
     "output_type": "stream",
     "text": [
      "Tuned CatBoost RMSE: 60.1552\n"
     ]
    }
   ],
   "source": [
    "# Predict & evaluate\n",
    "y_pred_best = best_model.predict(X_valid)\n",
    "rmse_best = np.sqrt(mean_squared_error(Y_valid, y_pred_best))\n",
    "\n",
    "print(f\"Tuned CatBoost RMSE: {rmse_best:.4f}\")"
   ]
  },
  {
   "cell_type": "code",
   "execution_count": null,
   "metadata": {},
   "outputs": [
    {
     "data": {
      "text/html": [
       "<div>\n",
       "<style scoped>\n",
       "    .dataframe tbody tr th:only-of-type {\n",
       "        vertical-align: middle;\n",
       "    }\n",
       "\n",
       "    .dataframe tbody tr th {\n",
       "        vertical-align: top;\n",
       "    }\n",
       "\n",
       "    .dataframe thead th {\n",
       "        text-align: right;\n",
       "    }\n",
       "</style>\n",
       "<table border=\"1\" class=\"dataframe\">\n",
       "  <thead>\n",
       "    <tr style=\"text-align: right;\">\n",
       "      <th></th>\n",
       "      <th>mask_studentpersonkey</th>\n",
       "      <th>sat_math_score</th>\n",
       "      <th>sat_verbal_score</th>\n",
       "      <th>pred_sat_math_score</th>\n",
       "      <th>pred_sat_verbal_score</th>\n",
       "    </tr>\n",
       "  </thead>\n",
       "  <tbody>\n",
       "    <tr>\n",
       "      <th>5864</th>\n",
       "      <td>311825</td>\n",
       "      <td>550</td>\n",
       "      <td>620</td>\n",
       "      <td>609</td>\n",
       "      <td>619</td>\n",
       "    </tr>\n",
       "    <tr>\n",
       "      <th>2522</th>\n",
       "      <td>257286</td>\n",
       "      <td>340</td>\n",
       "      <td>370</td>\n",
       "      <td>439</td>\n",
       "      <td>442</td>\n",
       "    </tr>\n",
       "    <tr>\n",
       "      <th>5940</th>\n",
       "      <td>312094</td>\n",
       "      <td>380</td>\n",
       "      <td>380</td>\n",
       "      <td>428</td>\n",
       "      <td>446</td>\n",
       "    </tr>\n",
       "    <tr>\n",
       "      <th>6085</th>\n",
       "      <td>312572</td>\n",
       "      <td>770</td>\n",
       "      <td>650</td>\n",
       "      <td>729</td>\n",
       "      <td>657</td>\n",
       "    </tr>\n",
       "    <tr>\n",
       "      <th>4603</th>\n",
       "      <td>296587</td>\n",
       "      <td>430</td>\n",
       "      <td>540</td>\n",
       "      <td>513</td>\n",
       "      <td>511</td>\n",
       "    </tr>\n",
       "    <tr>\n",
       "      <th>...</th>\n",
       "      <td>...</td>\n",
       "      <td>...</td>\n",
       "      <td>...</td>\n",
       "      <td>...</td>\n",
       "      <td>...</td>\n",
       "    </tr>\n",
       "    <tr>\n",
       "      <th>11134</th>\n",
       "      <td>425009</td>\n",
       "      <td>730</td>\n",
       "      <td>650</td>\n",
       "      <td>627</td>\n",
       "      <td>637</td>\n",
       "    </tr>\n",
       "    <tr>\n",
       "      <th>8725</th>\n",
       "      <td>353953</td>\n",
       "      <td>410</td>\n",
       "      <td>590</td>\n",
       "      <td>471</td>\n",
       "      <td>520</td>\n",
       "    </tr>\n",
       "    <tr>\n",
       "      <th>5132</th>\n",
       "      <td>300454</td>\n",
       "      <td>500</td>\n",
       "      <td>510</td>\n",
       "      <td>489</td>\n",
       "      <td>493</td>\n",
       "    </tr>\n",
       "    <tr>\n",
       "      <th>10742</th>\n",
       "      <td>410747</td>\n",
       "      <td>470</td>\n",
       "      <td>490</td>\n",
       "      <td>557</td>\n",
       "      <td>535</td>\n",
       "    </tr>\n",
       "    <tr>\n",
       "      <th>6712</th>\n",
       "      <td>316182</td>\n",
       "      <td>400</td>\n",
       "      <td>460</td>\n",
       "      <td>484</td>\n",
       "      <td>493</td>\n",
       "    </tr>\n",
       "  </tbody>\n",
       "</table>\n",
       "<p>2776 rows × 5 columns</p>\n",
       "</div>"
      ],
      "text/plain": [
       "      mask_studentpersonkey  sat_math_score  sat_verbal_score  \\\n",
       "5864                 311825             550               620   \n",
       "2522                 257286             340               370   \n",
       "5940                 312094             380               380   \n",
       "6085                 312572             770               650   \n",
       "4603                 296587             430               540   \n",
       "...                     ...             ...               ...   \n",
       "11134                425009             730               650   \n",
       "8725                 353953             410               590   \n",
       "5132                 300454             500               510   \n",
       "10742                410747             470               490   \n",
       "6712                 316182             400               460   \n",
       "\n",
       "       pred_sat_math_score  pred_sat_verbal_score  \n",
       "5864                   609                    619  \n",
       "2522                   439                    442  \n",
       "5940                   428                    446  \n",
       "6085                   729                    657  \n",
       "4603                   513                    511  \n",
       "...                    ...                    ...  \n",
       "11134                  627                    637  \n",
       "8725                   471                    520  \n",
       "5132                   489                    493  \n",
       "10742                  557                    535  \n",
       "6712                   484                    493  \n",
       "\n",
       "[2776 rows x 5 columns]"
      ]
     },
     "execution_count": 11,
     "metadata": {},
     "output_type": "execute_result"
    }
   ],
   "source": [
    "y_pred_int = np.round(y_pred_best, 0).astype(int)\n",
    "\n",
    "# Create comparison DataFrame\n",
    "comparison_df = pd.merge(\n",
    "    X_index,\n",
    "    pd.DataFrame(\n",
    "        {\n",
    "            \"sat_math_score\": Y_valid[\"sat_math_score\"],\n",
    "            \"sat_verbal_score\": Y_valid[\"sat_verbal_score\"],\n",
    "            \"pred_sat_math_score\": y_pred_int[:, 0],\n",
    "            \"pred_sat_verbal_score\": y_pred_int[:, 1],\n",
    "        }\n",
    "    ),\n",
    "    left_index=True,\n",
    "    right_index=True,\n",
    "    how=\"right\",\n",
    ")\n",
    "\n",
    "comparison_df"
   ]
  },
  {
   "cell_type": "code",
   "execution_count": null,
   "metadata": {},
   "outputs": [
    {
     "data": {
      "image/png": "[encoded data removed]",
      "text/plain": [
       "<Figure size 1000x800 with 1 Axes>"
      ]
     },
     "metadata": {},
     "output_type": "display_data"
    }
   ],
   "source": [
    "# Get feature importance (default is 'PredictionValuesChange')\n",
    "feature_importance = best_model.get_feature_importance()\n",
    "\n",
    "# Create a DataFrame for better visualization\n",
    "feature_names = X.columns\n",
    "importance_df = pd.DataFrame(\n",
    "    {\"feature\": feature_names, \"importance\": feature_importance}\n",
    ").sort_values(\"importance\", ascending=False)\n",
    "\n",
    "# Plot feature importance\n",
    "plt.figure(figsize=(10, 8))\n",
    "top_features = importance_df.head(20)\n",
    "plt.barh(range(len(top_features)), top_features[\"importance\"])\n",
    "plt.yticks(range(len(top_features)), top_features[\"feature\"])\n",
    "plt.xlabel(\"Feature Importance\")\n",
    "plt.title(\"Top 20 Feature Importances (CatBoost)\")\n",
    "plt.gca().invert_yaxis()\n",
    "plt.tight_layout()\n",
    "plt.show()"
   ]
  }
 ],
 "metadata": {
  "kernelspec": {
   "display_name": "ai-coach",
   "language": "python",
   "name": "python3"
  },
  "language_info": {
   "codemirror_mode": {
    "name": "ipython",
    "version": 3
   },
   "file_extension": ".py",
   "mimetype": "text/x-python",
   "name": "python",
   "nbconvert_exporter": "python",
   "pygments_lexer": "ipython3",
   "version": "3.10.17"
  }
 },
 "nbformat": 4,
 "nbformat_minor": 2
}
