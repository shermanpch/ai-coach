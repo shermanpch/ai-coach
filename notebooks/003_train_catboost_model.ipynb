{
 "cells": [
  {
   "cell_type": "code",
   "execution_count": 1,
   "metadata": {},
   "outputs": [],
   "source": [
    "%load_ext autoreload\n",
    "%autoreload 2"
   ]
  },
  {
   "cell_type": "code",
   "execution_count": 2,
   "metadata": {},
   "outputs": [
    {
     "name": "stdout",
     "output_type": "stream",
     "text": [
      "Changed to git root: /Users/sherman/GitHub/CSE-6748\n"
     ]
    }
   ],
   "source": [
    "import os\n",
    "import subprocess\n",
    "\n",
    "\n",
    "def get_git_root():\n",
    "    \"\"\"Get the root directory of the git repository\"\"\"\n",
    "    try:\n",
    "        git_root = (\n",
    "            subprocess.check_output(\n",
    "                [\"git\", \"rev-parse\", \"--show-toplevel\"], stderr=subprocess.DEVNULL\n",
    "            )\n",
    "            .strip()\n",
    "            .decode(\"utf-8\")\n",
    "        )\n",
    "        return git_root\n",
    "    except (subprocess.CalledProcessError, FileNotFoundError):\n",
    "        return None\n",
    "\n",
    "\n",
    "# Change to git root\n",
    "git_root = get_git_root()\n",
    "if git_root:\n",
    "    os.chdir(git_root)\n",
    "    print(f\"Changed to git root: {os.getcwd()}\")\n",
    "else:\n",
    "    print(\"Not in a git repository or git not found\")"
   ]
  },
  {
   "cell_type": "code",
   "execution_count": 3,
   "metadata": {},
   "outputs": [],
   "source": [
    "import pickle\n",
    "\n",
    "import numpy as np\n",
    "import pandas as pd\n",
    "from catboost import CatBoostRegressor\n",
    "from matplotlib import pyplot as plt\n",
    "from scipy.stats import randint, uniform\n",
    "from sklearn.metrics import mean_squared_error\n",
    "from sklearn.model_selection import RandomizedSearchCV, train_test_split"
   ]
  },
  {
   "cell_type": "code",
   "execution_count": 4,
   "metadata": {},
   "outputs": [],
   "source": [
    "X_index = pd.read_parquet(\"data/cleaned/X_index.parquet\")\n",
    "X = pd.read_parquet(\"data/cleaned/X.parquet\")\n",
    "Y = pd.read_parquet(\"data/cleaned/Y.parquet\")"
   ]
  },
  {
   "cell_type": "code",
   "execution_count": 5,
   "metadata": {},
   "outputs": [],
   "source": [
    "# Train/test split\n",
    "X_train, X_valid, Y_train, Y_valid = train_test_split(\n",
    "    X,\n",
    "    Y,\n",
    "    test_size=0.2,\n",
    "    random_state=69,\n",
    ")\n",
    "\n",
    "X_train.to_parquet(\"data/cleaned/X_train.parquet\")\n",
    "X_valid.to_parquet(\"data/cleaned/X_valid.parquet\")\n",
    "Y_train.to_parquet(\"data/cleaned/Y_train.parquet\")\n",
    "Y_valid.to_parquet(\"data/cleaned/Y_valid.parquet\")"
   ]
  },
  {
   "cell_type": "code",
   "execution_count": 6,
   "metadata": {},
   "outputs": [],
   "source": [
    "# # Define the parameter grid to search\n",
    "# param_dist = {\n",
    "#     \"iterations\": randint(1000, 5000),  # Number of trees\n",
    "#     \"learning_rate\": uniform(0.01, 0.2),  # Learning rate\n",
    "#     \"depth\": randint(4, 10),  # Depth of trees\n",
    "#     \"l2_leaf_reg\": uniform(1, 10),  # L2 regularization\n",
    "#     \"random_strength\": uniform(0.1, 1.0),  # Random strength for split\n",
    "#     \"bagging_temperature\": uniform(0, 1),  # Bagging temperature for features\n",
    "#     \"border_count\": randint(32, 255),  # Border count for splits\n",
    "# }\n",
    "\n",
    "# # Set up the CatBoost model for cross-validation\n",
    "# cv_model = CatBoostRegressor(\n",
    "#     loss_function=\"MultiRMSE\",\n",
    "#     eval_metric=\"MultiRMSE\",\n",
    "#     random_seed=42,\n",
    "#     verbose=0,\n",
    "#     task_type=\"CPU\",\n",
    "# )\n",
    "\n",
    "# # Create the RandomizedSearchCV object\n",
    "# search = RandomizedSearchCV(\n",
    "#     estimator=cv_model,\n",
    "#     param_distributions=param_dist,\n",
    "#     n_iter=100,  # Number of parameter settings to try\n",
    "#     cv=5,  # 5-fold cross-validation\n",
    "#     scoring=\"neg_root_mean_squared_error\",\n",
    "#     random_state=42,\n",
    "#     n_jobs=-1,  # Use all available processors\n",
    "#     verbose=2,\n",
    "# )\n",
    "\n",
    "# print(\"Starting hyperparameter search with cross-validation. This may take a while...\")\n",
    "\n",
    "\n",
    "# # Fit the RandomizedSearchCV\n",
    "categorical_features = X.select_dtypes(include=[\"object\"]).columns.tolist()\n",
    "# search.fit(X_train, Y_train, cat_features=categorical_features)\n",
    "\n",
    "# # Print the best parameters\n",
    "# print(\"\\nBest parameters found:\")\n",
    "# print(search.best_params_)\n",
    "# print(f\"\\nBest cross-validation RMSE: {-search.best_score_:.4f}\")"
   ]
  },
  {
   "cell_type": "code",
   "execution_count": 7,
   "metadata": {},
   "outputs": [
    {
     "name": "stdout",
     "output_type": "stream",
     "text": [
      "0:\tlearn: 165.3411316\ttest: 164.1087389\tbest: 164.1087389 (0)\ttotal: 83ms\tremaining: 6m 54s\n",
      "500:\tlearn: 80.1885065\ttest: 84.4593827\tbest: 84.4593827 (500)\ttotal: 11.4s\tremaining: 1m 42s\n",
      "1000:\tlearn: 75.7302729\ttest: 83.3440061\tbest: 83.3408555 (996)\ttotal: 22.9s\tremaining: 1m 31s\n",
      "1500:\tlearn: 72.6282556\ttest: 83.0103736\tbest: 83.0083706 (1497)\ttotal: 35.6s\tremaining: 1m 22s\n",
      "2000:\tlearn: 69.9562541\ttest: 82.8560431\tbest: 82.8554128 (1996)\ttotal: 45.6s\tremaining: 1m 8s\n",
      "2500:\tlearn: 67.5312858\ttest: 82.8431026\tbest: 82.8039625 (2237)\ttotal: 56.7s\tremaining: 56.6s\n",
      "3000:\tlearn: 65.2583315\ttest: 82.8232126\tbest: 82.8039625 (2237)\ttotal: 1m 7s\tremaining: 45s\n",
      "3500:\tlearn: 63.2932992\ttest: 82.8635055\tbest: 82.8039625 (2237)\ttotal: 1m 19s\tremaining: 33.9s\n",
      "4000:\tlearn: 61.3928421\ttest: 82.9274737\tbest: 82.8039625 (2237)\ttotal: 1m 31s\tremaining: 22.9s\n",
      "4500:\tlearn: 59.7044844\ttest: 83.0069160\tbest: 82.8039625 (2237)\ttotal: 1m 44s\tremaining: 11.5s\n",
      "4999:\tlearn: 58.0906520\ttest: 83.1021704\tbest: 82.8039625 (2237)\ttotal: 1m 53s\tremaining: 0us\n",
      "\n",
      "bestTest = 82.80396247\n",
      "bestIteration = 2237\n",
      "\n",
      "Shrink model to first 2238 iterations.\n"
     ]
    },
    {
     "data": {
      "text/plain": [
       "<catboost.core.CatBoostRegressor at 0x1074697b0>"
      ]
     },
     "execution_count": 7,
     "metadata": {},
     "output_type": "execute_result"
    }
   ],
   "source": [
    "# Train a new model with the best parameters\n",
    "best_model = CatBoostRegressor(\n",
    "    # **search.best_params_,\n",
    "    iterations=5000,\n",
    "    loss_function=\"MultiRMSE\",\n",
    "    eval_metric=\"MultiRMSE\",\n",
    "    random_seed=42,\n",
    "    verbose=500,\n",
    ")\n",
    "\n",
    "# Fit the model with best parameters\n",
    "best_model.fit(\n",
    "    X_train,\n",
    "    Y_train,\n",
    "    eval_set=[(X_valid, Y_valid)],\n",
    "    cat_features=categorical_features,\n",
    ")"
   ]
  },
  {
   "cell_type": "code",
   "execution_count": 8,
   "metadata": {},
   "outputs": [
    {
     "name": "stdout",
     "output_type": "stream",
     "text": [
      "CatBoost model saved as pickle to models/catboost_model.pkl\n"
     ]
    }
   ],
   "source": [
    "# Save the CatBoost model to a pickle file\n",
    "with open(\"models/catboost_model.pkl\", \"wb\") as f:\n",
    "    pickle.dump(best_model, f)\n",
    "\n",
    "print(\"CatBoost model saved as pickle to models/catboost_model.pkl\")"
   ]
  },
  {
   "cell_type": "code",
   "execution_count": 9,
   "metadata": {},
   "outputs": [],
   "source": [
    "# Load the model from pickle\n",
    "with open(\"models/catboost_model.pkl\", \"rb\") as f:\n",
    "    loaded_model = pickle.load(f)"
   ]
  },
  {
   "cell_type": "code",
   "execution_count": 10,
   "metadata": {},
   "outputs": [
    {
     "name": "stdout",
     "output_type": "stream",
     "text": [
      "Tuned CatBoost RMSE: 58.5512\n"
     ]
    }
   ],
   "source": [
    "# Predict & evaluate\n",
    "y_pred_best = best_model.predict(X_valid)\n",
    "rmse_best = np.sqrt(mean_squared_error(Y_valid, y_pred_best))\n",
    "\n",
    "print(f\"Tuned CatBoost RMSE: {rmse_best:.4f}\")"
   ]
  },
  {
   "cell_type": "code",
   "execution_count": 11,
   "metadata": {},
   "outputs": [
    {
     "data": {
      "text/html": [
       "<div>\n",
       "<style scoped>\n",
       "    .dataframe tbody tr th:only-of-type {\n",
       "        vertical-align: middle;\n",
       "    }\n",
       "\n",
       "    .dataframe tbody tr th {\n",
       "        vertical-align: top;\n",
       "    }\n",
       "\n",
       "    .dataframe thead th {\n",
       "        text-align: right;\n",
       "    }\n",
       "</style>\n",
       "<table border=\"1\" class=\"dataframe\">\n",
       "  <thead>\n",
       "    <tr style=\"text-align: right;\">\n",
       "      <th></th>\n",
       "      <th>mask_studentpersonkey</th>\n",
       "      <th>sat_math_score</th>\n",
       "      <th>sat_verbal_score</th>\n",
       "      <th>pred_sat_math_score</th>\n",
       "      <th>pred_sat_verbal_score</th>\n",
       "    </tr>\n",
       "  </thead>\n",
       "  <tbody>\n",
       "    <tr>\n",
       "      <th>12655</th>\n",
       "      <td>617714</td>\n",
       "      <td>430.0</td>\n",
       "      <td>520.0</td>\n",
       "      <td>415</td>\n",
       "      <td>484</td>\n",
       "    </tr>\n",
       "    <tr>\n",
       "      <th>6702</th>\n",
       "      <td>318077</td>\n",
       "      <td>580.0</td>\n",
       "      <td>610.0</td>\n",
       "      <td>642</td>\n",
       "      <td>629</td>\n",
       "    </tr>\n",
       "    <tr>\n",
       "      <th>13540</th>\n",
       "      <td>854983</td>\n",
       "      <td>770.0</td>\n",
       "      <td>740.0</td>\n",
       "      <td>688</td>\n",
       "      <td>702</td>\n",
       "    </tr>\n",
       "    <tr>\n",
       "      <th>3042</th>\n",
       "      <td>261353</td>\n",
       "      <td>400.0</td>\n",
       "      <td>470.0</td>\n",
       "      <td>468</td>\n",
       "      <td>501</td>\n",
       "    </tr>\n",
       "    <tr>\n",
       "      <th>4532</th>\n",
       "      <td>296972</td>\n",
       "      <td>430.0</td>\n",
       "      <td>430.0</td>\n",
       "      <td>487</td>\n",
       "      <td>498</td>\n",
       "    </tr>\n",
       "    <tr>\n",
       "      <th>...</th>\n",
       "      <td>...</td>\n",
       "      <td>...</td>\n",
       "      <td>...</td>\n",
       "      <td>...</td>\n",
       "      <td>...</td>\n",
       "    </tr>\n",
       "    <tr>\n",
       "      <th>2617</th>\n",
       "      <td>257964</td>\n",
       "      <td>620.0</td>\n",
       "      <td>700.0</td>\n",
       "      <td>646</td>\n",
       "      <td>668</td>\n",
       "    </tr>\n",
       "    <tr>\n",
       "      <th>5918</th>\n",
       "      <td>312689</td>\n",
       "      <td>600.0</td>\n",
       "      <td>590.0</td>\n",
       "      <td>609</td>\n",
       "      <td>630</td>\n",
       "    </tr>\n",
       "    <tr>\n",
       "      <th>6550</th>\n",
       "      <td>316405</td>\n",
       "      <td>590.0</td>\n",
       "      <td>610.0</td>\n",
       "      <td>602</td>\n",
       "      <td>626</td>\n",
       "    </tr>\n",
       "    <tr>\n",
       "      <th>260</th>\n",
       "      <td>1497117</td>\n",
       "      <td>300.0</td>\n",
       "      <td>310.0</td>\n",
       "      <td>372</td>\n",
       "      <td>400</td>\n",
       "    </tr>\n",
       "    <tr>\n",
       "      <th>4553</th>\n",
       "      <td>297097</td>\n",
       "      <td>470.0</td>\n",
       "      <td>480.0</td>\n",
       "      <td>492</td>\n",
       "      <td>478</td>\n",
       "    </tr>\n",
       "  </tbody>\n",
       "</table>\n",
       "<p>2712 rows × 5 columns</p>\n",
       "</div>"
      ],
      "text/plain": [
       "      mask_studentpersonkey  sat_math_score  sat_verbal_score  \\\n",
       "12655                617714           430.0             520.0   \n",
       "6702                 318077           580.0             610.0   \n",
       "13540                854983           770.0             740.0   \n",
       "3042                 261353           400.0             470.0   \n",
       "4532                 296972           430.0             430.0   \n",
       "...                     ...             ...               ...   \n",
       "2617                 257964           620.0             700.0   \n",
       "5918                 312689           600.0             590.0   \n",
       "6550                 316405           590.0             610.0   \n",
       "260                 1497117           300.0             310.0   \n",
       "4553                 297097           470.0             480.0   \n",
       "\n",
       "       pred_sat_math_score  pred_sat_verbal_score  \n",
       "12655                  415                    484  \n",
       "6702                   642                    629  \n",
       "13540                  688                    702  \n",
       "3042                   468                    501  \n",
       "4532                   487                    498  \n",
       "...                    ...                    ...  \n",
       "2617                   646                    668  \n",
       "5918                   609                    630  \n",
       "6550                   602                    626  \n",
       "260                    372                    400  \n",
       "4553                   492                    478  \n",
       "\n",
       "[2712 rows x 5 columns]"
      ]
     },
     "execution_count": 11,
     "metadata": {},
     "output_type": "execute_result"
    }
   ],
   "source": [
    "y_pred_int = np.round(y_pred_best, 0).astype(int)\n",
    "\n",
    "# Create comparison DataFrame\n",
    "comparison_df = pd.merge(\n",
    "    X_index,\n",
    "    pd.DataFrame(\n",
    "        {\n",
    "            \"sat_math_score\": Y_valid[\"sat_math_score\"],\n",
    "            \"sat_verbal_score\": Y_valid[\"sat_verbal_score\"],\n",
    "            \"pred_sat_math_score\": y_pred_int[:, 0],\n",
    "            \"pred_sat_verbal_score\": y_pred_int[:, 1],\n",
    "        }\n",
    "    ),\n",
    "    left_index=True,\n",
    "    right_index=True,\n",
    "    how=\"right\",\n",
    ")\n",
    "\n",
    "comparison_df"
   ]
  },
  {
   "cell_type": "code",
   "execution_count": 12,
   "metadata": {},
   "outputs": [
    {
     "data": {
      "image/png": "[encoded data removed]",
      "text/plain": [
       "<Figure size 1000x800 with 1 Axes>"
      ]
     },
     "metadata": {},
     "output_type": "display_data"
    }
   ],
   "source": [
    "# Get feature importance (default is 'PredictionValuesChange')\n",
    "feature_importance = best_model.get_feature_importance()\n",
    "\n",
    "# Create a DataFrame for better visualization\n",
    "feature_names = X.columns\n",
    "importance_df = pd.DataFrame(\n",
    "    {\"feature\": feature_names, \"importance\": feature_importance}\n",
    ").sort_values(\"importance\", ascending=False)\n",
    "\n",
    "# Plot feature importance\n",
    "plt.figure(figsize=(10, 8))\n",
    "top_features = importance_df.head(20)\n",
    "plt.barh(range(len(top_features)), top_features[\"importance\"])\n",
    "plt.yticks(range(len(top_features)), top_features[\"feature\"])\n",
    "plt.xlabel(\"Feature Importance\")\n",
    "plt.title(\"Top 20 Feature Importances (CatBoost)\")\n",
    "plt.gca().invert_yaxis()\n",
    "plt.tight_layout()\n",
    "plt.show()"
   ]
  }
 ],
 "metadata": {
  "kernelspec": {
   "display_name": "ai-coach",
   "language": "python",
   "name": "python3"
  },
  "language_info": {
   "codemirror_mode": {
    "name": "ipython",
    "version": 3
   },
   "file_extension": ".py",
   "mimetype": "text/x-python",
   "name": "python",
   "nbconvert_exporter": "python",
   "pygments_lexer": "ipython3",
   "version": "3.10.17"
  }
 },
 "nbformat": 4,
 "nbformat_minor": 2
}
